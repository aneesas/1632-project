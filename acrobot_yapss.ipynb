{
 "cells": [
  {
   "cell_type": "code",
   "execution_count": 1,
   "metadata": {},
   "outputs": [],
   "source": [
    "from yapss import Problem\n",
    "import numpy as np\n",
    "import matplotlib.pyplot as plt\n",
    "import casadi as cd\n",
    "\n",
    "from helpers import inv_4x4, matmul_4d"
   ]
  },
  {
   "cell_type": "code",
   "execution_count": 2,
   "metadata": {},
   "outputs": [],
   "source": [
    "### Acrobot parameters (taken from Spong 1995)\n",
    "# Masses (kg)\n",
    "m1 = 1.\n",
    "m2 = 1.\n",
    "# Link lengths (m)\n",
    "l1 = 1.\n",
    "l2 = 2.\n",
    "# Centers of masses (m)\n",
    "lc1 = 0.5\n",
    "lc2 = 1.\n",
    "# Moments of inertia\n",
    "I1 = 0.083\n",
    "I2 = 0.33\n",
    "# Gravity\n",
    "g = 9.8"
   ]
  },
  {
   "cell_type": "code",
   "execution_count": 3,
   "metadata": {},
   "outputs": [],
   "source": [
    "### Problem parameters\n",
    "t0 = 0\n",
    "tf = 10\n",
    "R = 10\n",
    "x0 = [0, 0, 0, 0]\n",
    "\n",
    "# Acrobot state: [theta1, theta2, theta1_dot, theta2_dot]\n",
    "# input: [torque] (at elbow joint only)\n",
    "problem = Problem(name=\"acrobot\", nx=[4], nu=[1], nq=[1])"
   ]
  },
  {
   "cell_type": "code",
   "execution_count": 9,
   "metadata": {},
   "outputs": [],
   "source": [
    "### Acrobot dynamics & objective function\n",
    "\n",
    "def objective(arg):\n",
    "    arg.objective = arg.phase[0].integral[0]\n",
    "\n",
    "def continuous(arg):\n",
    "    theta1, theta2, theta1_dot, theta2_dot = arg.phase[0].state\n",
    "    u, = arg.phase[0].control  # elbow torque\n",
    "\n",
    "    # M(q)*q_ddot + C(q, q_dot)*q_dot = tau_g(q) + Bu\n",
    "    # q = [theta1, theta2]^T\n",
    "\n",
    "    # M, mass matrix\n",
    "    # M11 = I1 + I2 + m2*l1**2 + 2*m2*l1*lc2*cd.cos(cd.SX(theta2))\n",
    "    # M12 = I2 + m2*l1*lc2*cd.cos(theta2)\n",
    "    # M_val = [[M11, M12], [M12, I2]]\n",
    "    # M = cd.SX(M_val)\n",
    "    M = np.array([[I1 + I2 + m2*l1**2 + 2*m2*l1*lc2*np.cos(theta2), I2 + m2*l1*lc2*np.cos(theta2)],\n",
    "                  [I2 + m2*l1*lc2*np.cos(theta2), cd.SX(I2)]])\n",
    "\n",
    "    # C, Coriolis terms\n",
    "    C = np.array([[-2*m2*l1*lc2*np.sin(theta2)*theta2_dot, -m2*l1*lc2*np.sin(theta2)*theta2_dot],\n",
    "               [m2*l1*lc2*np.sin(theta2)*theta1_dot, 0]])\n",
    "\n",
    "    # tau_g, gravity terms\n",
    "    tau_g = np.array([-m1*g*lc1*np.sin(theta1) - m2*g*(l1*np.sin(theta1) + lc2*np.sin(theta1 + theta2)),\n",
    "                   -m2*g*lc2*np.sin(theta1 + theta2)])\n",
    "\n",
    "    # Combine to make the big matrix, call it M_block\n",
    "    # NOTE I'm doing it this way because numpy tries to invert block matrices as their individual blocks\n",
    "    # So even when the overall matrix is invertible, it says it's singular if C is singular\n",
    "    M_block = np.array([[1, 0, 0, 0],\n",
    "                     [0, 1, 0, 0],\n",
    "                     [C[0,0], C[0,1], M[0,0], M[0,1]],\n",
    "                     [C[1,0], C[1,1], M[1,0], M[1,1]]])\n",
    "\n",
    "    # arg.phase[0].dynamics[:] = cd.mtimes(cd.inv(M_block), cd.SX(np.array([theta1_dot, theta2_dot, tau_g[0], tau_g[1] + u])))\n",
    "    arg.phase[0].dynamics[:] = np.matmul(M_block, np.array([theta1_dot, theta2_dot, tau_g[0], tau_g[1] + u]))\n",
    "    # arg.phase[0].integrand[0] = R * u**2 # Cost only on input \"effort\"\n",
    "    arg.phase[0].integrand[0] = 0.  # TODO only for testing\n",
    "\n",
    "functions = problem.functions\n",
    "functions.objective = objective\n",
    "functions.continuous = continuous"
   ]
  },
  {
   "cell_type": "code",
   "execution_count": null,
   "metadata": {},
   "outputs": [],
   "source": [
    "### TESTING\n",
    "theta1 = np.pi\n",
    "theta2 = 0.\n",
    "theta1_dot = 0.\n",
    "theta2_dot = 0.\n",
    "u = 0.4\n",
    "\n",
    "# M, mass matrix\n",
    "M = np.array([[I1 + I2 + m2*l1**2 + 2*m2*l1*lc2*np.cos(theta2), I2 + m2*l1*lc2*np.cos(theta2)],\n",
    "                [I2 + m2*l1*lc2*np.cos(theta2), I2]])\n",
    "\n",
    "# C, Coriolis terms\n",
    "C = np.array([[-2*m2*l1*lc2*np.sin(theta2)*theta2_dot, -m2*l1*lc2*np.sin(theta2)*theta2_dot],\n",
    "              [m2*l1*lc2*np.sin(theta2)*theta1_dot, 0]])\n",
    "\n",
    "# tau_g, gravity terms\n",
    "tau_g = np.array([-m1*g*lc1*np.sin(theta1) - m2*g*(l1*np.sin(theta1) + lc2*np.sin(theta1 + theta2)),\n",
    "                  -m2*g*lc2*np.sin(theta1 + theta2)])\n",
    "\n",
    "# Combine to make the big matrix, call it M_block\n",
    "M_block = np.array([[1, 0, 0, 0],\n",
    "                    [0, 1, 0, 0],\n",
    "                    [C[0,0], C[0,1], M[0,0], M[0,1]],\n",
    "                    [C[1,0], C[1,1], M[1,0], M[1,1]]])\n",
    "\n",
    "dynamics = np.linalg.inv(M_block) @ np.array([theta1_dot, theta2_dot, tau_g[0], tau_g[1] + u])"
   ]
  },
  {
   "cell_type": "code",
   "execution_count": 5,
   "metadata": {},
   "outputs": [],
   "source": [
    "### Set bounds\n",
    "bounds = problem.bounds.phase[0]\n",
    "\n",
    "# Initial conditions\n",
    "bounds.initial_time.lower = bounds.initial_time.upper = t0\n",
    "bounds.initial_state.lower = bounds.initial_state.upper = x0\n",
    "\n",
    "# Final time\n",
    "bounds.final_time.lower = bounds.final_time.upper = tf\n",
    "\n",
    "# Control bounds\n",
    "# TODO no control right now\n",
    "bounds.control.lower[:] = bounds.control.upper[:] = (0,)"
   ]
  },
  {
   "cell_type": "code",
   "execution_count": 6,
   "metadata": {},
   "outputs": [],
   "source": [
    "### Initial guess\n",
    "phase = problem.guess.phase[0]\n",
    "phase.time = (t0, tf)\n",
    "phase.state = ((0, 0), (0, 0), (0, 0), (0, 0))\n",
    "phase.control = ((0, 0),)"
   ]
  },
  {
   "cell_type": "code",
   "execution_count": 7,
   "metadata": {},
   "outputs": [],
   "source": [
    "### Mesh and solver settings\n",
    "m, n = 10, 10\n",
    "problem.mesh.phase[0].collocation_points = m * (n,)\n",
    "problem.mesh.phase[0].mesh_fraction = m * (1.0 / m,)\n",
    "\n",
    "problem.derivatives.order = \"second\"\n",
    "problem.derivatives.method = \"auto\"\n",
    "problem.spectral_method = \"lgl\"\n",
    "problem.ipopt_options.tol = 1e-10"
   ]
  },
  {
   "cell_type": "code",
   "execution_count": 10,
   "metadata": {},
   "outputs": [
    {
     "ename": "TypeError",
     "evalue": "exceptions must derive from BaseException",
     "output_type": "error",
     "traceback": [
      "\u001b[0;31m---------------------------------------------------------------------------\u001b[0m",
      "\u001b[0;31mTypeError\u001b[0m                                 Traceback (most recent call last)",
      "Cell \u001b[0;32mIn[10], line 2\u001b[0m\n\u001b[1;32m      1\u001b[0m \u001b[38;5;66;03m### Solve\u001b[39;00m\n\u001b[0;32m----> 2\u001b[0m output \u001b[38;5;241m=\u001b[39m \u001b[43mproblem\u001b[49m\u001b[38;5;241;43m.\u001b[39;49m\u001b[43msolve\u001b[49m\u001b[43m(\u001b[49m\u001b[43m)\u001b[49m\n",
      "File \u001b[0;32m~/Documents/MIT/16.32/homework-1632/venv/lib/python3.11/site-packages/yapss/_private/problem.py:214\u001b[0m, in \u001b[0;36mProblem.solve\u001b[0;34m(self)\u001b[0m\n\u001b[1;32m    206\u001b[0m \u001b[38;5;28;01mdef\u001b[39;00m \u001b[38;5;21msolve\u001b[39m(\u001b[38;5;28mself\u001b[39m) \u001b[38;5;241m-\u001b[39m\u001b[38;5;241m>\u001b[39m Output:\n\u001b[1;32m    207\u001b[0m \u001b[38;5;250m    \u001b[39m\u001b[38;5;124;03m\"\"\"Solve the optimal control problem.\u001b[39;00m\n\u001b[1;32m    208\u001b[0m \n\u001b[1;32m    209\u001b[0m \u001b[38;5;124;03m    Returns\u001b[39;00m\n\u001b[0;32m   (...)\u001b[0m\n\u001b[1;32m    212\u001b[0m \u001b[38;5;124;03m        The solution to the optimal control problem.\u001b[39;00m\n\u001b[1;32m    213\u001b[0m \u001b[38;5;124;03m    \"\"\"\u001b[39;00m\n\u001b[0;32m--> 214\u001b[0m     \u001b[38;5;28;01mreturn\u001b[39;00m \u001b[43msolve\u001b[49m\u001b[43m(\u001b[49m\u001b[38;5;28;43mself\u001b[39;49m\u001b[43m)\u001b[49m\n",
      "File \u001b[0;32m~/Documents/MIT/16.32/homework-1632/venv/lib/python3.11/site-packages/yapss/_private/solver.py:310\u001b[0m, in \u001b[0;36msolve\u001b[0;34m(problem)\u001b[0m\n\u001b[1;32m    308\u001b[0m     functions \u001b[38;5;241m=\u001b[39m make_cd_functions(problem, z0)\n\u001b[1;32m    309\u001b[0m \u001b[38;5;28;01melif\u001b[39;00m method \u001b[38;5;129;01min\u001b[39;00m (\u001b[38;5;124m\"\u001b[39m\u001b[38;5;124mauto\u001b[39m\u001b[38;5;124m\"\u001b[39m, \u001b[38;5;124m\"\u001b[39m\u001b[38;5;124mauto-mx\u001b[39m\u001b[38;5;124m\"\u001b[39m):\n\u001b[0;32m--> 310\u001b[0m     functions \u001b[38;5;241m=\u001b[39m \u001b[43mmake_auto_functions\u001b[49m\u001b[43m(\u001b[49m\u001b[43mproblem\u001b[49m\u001b[43m)\u001b[49m\n\u001b[1;32m    311\u001b[0m \u001b[38;5;28;01melse\u001b[39;00m:\n\u001b[1;32m    312\u001b[0m     \u001b[38;5;28;01mraise\u001b[39;00m \u001b[38;5;167;01mRuntimeError\u001b[39;00m\n",
      "File \u001b[0;32m~/Documents/MIT/16.32/homework-1632/venv/lib/python3.11/site-packages/yapss/_private/auto.py:277\u001b[0m, in \u001b[0;36mmake_auto_functions\u001b[0;34m(problem)\u001b[0m\n\u001b[1;32m    257\u001b[0m (\n\u001b[1;32m    258\u001b[0m     objective,\n\u001b[1;32m    259\u001b[0m     objective_gradient,\n\u001b[0;32m   (...)\u001b[0m\n\u001b[1;32m    267\u001b[0m     discrete_hessian_structure,\n\u001b[1;32m    268\u001b[0m ) \u001b[38;5;241m=\u001b[39m make_discrete_derivatives(problem, objective_arg, discrete_arg)\n\u001b[1;32m    270\u001b[0m \u001b[38;5;66;03m# make the continuous callback functions and derivative structures\u001b[39;00m\n\u001b[1;32m    271\u001b[0m (\n\u001b[1;32m    272\u001b[0m     continuous,\n\u001b[1;32m    273\u001b[0m     continuous_jacobian,\n\u001b[1;32m    274\u001b[0m     continuous_jacobian_structure,\n\u001b[1;32m    275\u001b[0m     continuous_hessian,\n\u001b[1;32m    276\u001b[0m     continuous_hessian_structure,\n\u001b[0;32m--> 277\u001b[0m ) \u001b[38;5;241m=\u001b[39m \u001b[43mmake_continuous_derivatives\u001b[49m\u001b[43m(\u001b[49m\u001b[43mproblem\u001b[49m\u001b[43m,\u001b[49m\u001b[43m \u001b[49m\u001b[43mcontinuous_arg\u001b[49m\u001b[43m)\u001b[49m\n\u001b[1;32m    279\u001b[0m \u001b[38;5;28;01mreturn\u001b[39;00m ProblemFunctions(\n\u001b[1;32m    280\u001b[0m     continuous\u001b[38;5;241m=\u001b[39mcontinuous,\n\u001b[1;32m    281\u001b[0m     continuous_jacobian\u001b[38;5;241m=\u001b[39mcontinuous_jacobian,\n\u001b[0;32m   (...)\u001b[0m\n\u001b[1;32m    294\u001b[0m     discrete_hessian_structure\u001b[38;5;241m=\u001b[39mdiscrete_hessian_structure,\n\u001b[1;32m    295\u001b[0m )\n",
      "File \u001b[0;32m~/Documents/MIT/16.32/homework-1632/venv/lib/python3.11/site-packages/yapss/_private/auto.py:676\u001b[0m, in \u001b[0;36mmake_continuous_derivatives\u001b[0;34m(problem, arg)\u001b[0m\n\u001b[1;32m    672\u001b[0m hessian_functions: \u001b[38;5;28mlist\u001b[39m[Function] \u001b[38;5;241m=\u001b[39m []\n\u001b[1;32m    674\u001b[0m \u001b[38;5;66;03m# call the continuous function callback with symbolic args to get symbolic expressions\u001b[39;00m\n\u001b[1;32m    675\u001b[0m \u001b[38;5;66;03m# for the functions\u001b[39;00m\n\u001b[0;32m--> 676\u001b[0m \u001b[43mproblem\u001b[49m\u001b[38;5;241;43m.\u001b[39;49m\u001b[43mfunctions\u001b[49m\u001b[38;5;241;43m.\u001b[39;49m\u001b[43mcontinuous\u001b[49m\u001b[43m(\u001b[49m\u001b[43marg\u001b[49m\u001b[43m)\u001b[49m\n\u001b[1;32m    678\u001b[0m \u001b[38;5;28;01mfor\u001b[39;00m p \u001b[38;5;129;01min\u001b[39;00m \u001b[38;5;28mrange\u001b[39m(problem\u001b[38;5;241m.\u001b[39mnp):\n\u001b[1;32m    679\u001b[0m     phase \u001b[38;5;241m=\u001b[39m arg\u001b[38;5;241m.\u001b[39mphase[p]\n",
      "Cell \u001b[0;32mIn[9], line 65\u001b[0m, in \u001b[0;36mcontinuous\u001b[0;34m(arg)\u001b[0m\n\u001b[1;32m     59\u001b[0m M_block \u001b[38;5;241m=\u001b[39m np\u001b[38;5;241m.\u001b[39marray([[\u001b[38;5;241m1\u001b[39m, \u001b[38;5;241m0\u001b[39m, \u001b[38;5;241m0\u001b[39m, \u001b[38;5;241m0\u001b[39m],\n\u001b[1;32m     60\u001b[0m                  [\u001b[38;5;241m0\u001b[39m, \u001b[38;5;241m1\u001b[39m, \u001b[38;5;241m0\u001b[39m, \u001b[38;5;241m0\u001b[39m],\n\u001b[1;32m     61\u001b[0m                  [C[\u001b[38;5;241m0\u001b[39m,\u001b[38;5;241m0\u001b[39m], C[\u001b[38;5;241m0\u001b[39m,\u001b[38;5;241m1\u001b[39m], M[\u001b[38;5;241m0\u001b[39m,\u001b[38;5;241m0\u001b[39m], M[\u001b[38;5;241m0\u001b[39m,\u001b[38;5;241m1\u001b[39m]],\n\u001b[1;32m     62\u001b[0m                  [C[\u001b[38;5;241m1\u001b[39m,\u001b[38;5;241m0\u001b[39m], C[\u001b[38;5;241m1\u001b[39m,\u001b[38;5;241m1\u001b[39m], M[\u001b[38;5;241m1\u001b[39m,\u001b[38;5;241m0\u001b[39m], M[\u001b[38;5;241m1\u001b[39m,\u001b[38;5;241m1\u001b[39m]]])\n\u001b[1;32m     64\u001b[0m \u001b[38;5;66;03m# arg.phase[0].dynamics[:] = cd.mtimes(cd.inv(M_block), cd.SX(np.array([theta1_dot, theta2_dot, tau_g[0], tau_g[1] + u])))\u001b[39;00m\n\u001b[0;32m---> 65\u001b[0m arg\u001b[38;5;241m.\u001b[39mphase[\u001b[38;5;241m0\u001b[39m]\u001b[38;5;241m.\u001b[39mdynamics[:] \u001b[38;5;241m=\u001b[39m \u001b[43mnp\u001b[49m\u001b[38;5;241;43m.\u001b[39;49m\u001b[43mmatmul\u001b[49m\u001b[43m(\u001b[49m\u001b[43mM_block\u001b[49m\u001b[43m,\u001b[49m\u001b[43m \u001b[49m\u001b[43mnp\u001b[49m\u001b[38;5;241;43m.\u001b[39;49m\u001b[43marray\u001b[49m\u001b[43m(\u001b[49m\u001b[43m[\u001b[49m\u001b[43mtheta1_dot\u001b[49m\u001b[43m,\u001b[49m\u001b[43m \u001b[49m\u001b[43mtheta2_dot\u001b[49m\u001b[43m,\u001b[49m\u001b[43m \u001b[49m\u001b[43mtau_g\u001b[49m\u001b[43m[\u001b[49m\u001b[38;5;241;43m0\u001b[39;49m\u001b[43m]\u001b[49m\u001b[43m,\u001b[49m\u001b[43m \u001b[49m\u001b[43mtau_g\u001b[49m\u001b[43m[\u001b[49m\u001b[38;5;241;43m1\u001b[39;49m\u001b[43m]\u001b[49m\u001b[43m \u001b[49m\u001b[38;5;241;43m+\u001b[39;49m\u001b[43m \u001b[49m\u001b[43mu\u001b[49m\u001b[43m]\u001b[49m\u001b[43m)\u001b[49m\u001b[43m)\u001b[49m\n\u001b[1;32m     66\u001b[0m \u001b[38;5;66;03m# arg.phase[0].integrand[0] = R * u**2 # Cost only on input \"effort\"\u001b[39;00m\n\u001b[1;32m     67\u001b[0m arg\u001b[38;5;241m.\u001b[39mphase[\u001b[38;5;241m0\u001b[39m]\u001b[38;5;241m.\u001b[39mintegrand[\u001b[38;5;241m0\u001b[39m] \u001b[38;5;241m=\u001b[39m \u001b[38;5;241m0.\u001b[39m\n",
      "File \u001b[0;32m~/Documents/MIT/16.32/homework-1632/venv/lib/python3.11/site-packages/yapss/_private/auto.py:134\u001b[0m, in \u001b[0;36mBaseWrapper.__rmul__\u001b[0;34m(self, other)\u001b[0m\n\u001b[1;32m    133\u001b[0m \u001b[38;5;28;01mdef\u001b[39;00m \u001b[38;5;21m__rmul__\u001b[39m(\u001b[38;5;28mself\u001b[39m, other: Union[\u001b[38;5;28mint\u001b[39m, \u001b[38;5;28mfloat\u001b[39m, T, BaseWrapper[T]]) \u001b[38;5;241m-\u001b[39m\u001b[38;5;241m>\u001b[39m BaseWrapper[T]:\n\u001b[0;32m--> 134\u001b[0m     \u001b[38;5;28;01mreturn\u001b[39;00m \u001b[38;5;28;43mself\u001b[39;49m\u001b[38;5;241;43m.\u001b[39;49m\u001b[38;5;21;43m__mul__\u001b[39;49m\u001b[43m(\u001b[49m\u001b[43mother\u001b[49m\u001b[43m)\u001b[49m\n",
      "File \u001b[0;32m~/Documents/MIT/16.32/homework-1632/venv/lib/python3.11/site-packages/yapss/_private/auto.py:131\u001b[0m, in \u001b[0;36mBaseWrapper.__mul__\u001b[0;34m(self, other)\u001b[0m\n\u001b[1;32m    129\u001b[0m     \u001b[38;5;28;01mreturn\u001b[39;00m \u001b[38;5;28mself\u001b[39m\u001b[38;5;241m.\u001b[39m\u001b[38;5;18m__class__\u001b[39m(\u001b[38;5;28mself\u001b[39m\u001b[38;5;241m.\u001b[39m_value \u001b[38;5;241m*\u001b[39m other)\n\u001b[1;32m    130\u001b[0m \u001b[38;5;28;01melse\u001b[39;00m:\n\u001b[0;32m--> 131\u001b[0m     \u001b[38;5;28;01mraise\u001b[39;00m \u001b[38;5;28mNotImplemented\u001b[39m\n",
      "\u001b[0;31mTypeError\u001b[0m: exceptions must derive from BaseException"
     ]
    }
   ],
   "source": [
    "### Solve\n",
    "output = problem.solve()"
   ]
  },
  {
   "cell_type": "code",
   "execution_count": null,
   "metadata": {},
   "outputs": [],
   "source": [
    "# extract information from solution\n",
    "time = output.solution.phase[0].time\n",
    "time_u = output.solution.phase[0].time_u\n",
    "q1, q2, q1_dot, q2_dot = output.solution.phase[0].state\n",
    "(torque,) = output.solution.phase[0].control\n",
    "phase = output.solution.phase[0]\n",
    "\n",
    "# initial and final time\n",
    "t0 = output.solution.phase[0].t0\n",
    "tf = output.solution.phase[0].tf"
   ]
  },
  {
   "cell_type": "code",
   "execution_count": null,
   "metadata": {},
   "outputs": [],
   "source": [
    "plt.figure()\n",
    "plt.plot(time, q2_dot)\n",
    "plt.grid()"
   ]
  },
  {
   "cell_type": "code",
   "execution_count": null,
   "metadata": {},
   "outputs": [],
   "source": []
  }
 ],
 "metadata": {
  "kernelspec": {
   "display_name": "venv",
   "language": "python",
   "name": "python3"
  },
  "language_info": {
   "codemirror_mode": {
    "name": "ipython",
    "version": 3
   },
   "file_extension": ".py",
   "mimetype": "text/x-python",
   "name": "python",
   "nbconvert_exporter": "python",
   "pygments_lexer": "ipython3",
   "version": "3.11.5"
  }
 },
 "nbformat": 4,
 "nbformat_minor": 2
}
