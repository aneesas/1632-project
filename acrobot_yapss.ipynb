{
 "cells": [
  {
   "cell_type": "code",
   "execution_count": 1,
   "metadata": {},
   "outputs": [],
   "source": [
    "from yapss import Problem\n",
    "import numpy as np\n",
    "import matplotlib.pyplot as plt\n",
    "\n",
    "import helpers"
   ]
  },
  {
   "cell_type": "code",
   "execution_count": 2,
   "metadata": {},
   "outputs": [],
   "source": [
    "### Acrobot parameters (taken from Spong 1995)\n",
    "# Masses (kg)\n",
    "m1 = 1.\n",
    "m2 = 1.\n",
    "# Link lengths (m)\n",
    "l1 = 1.\n",
    "l2 = 2.\n",
    "# Centers of masses (m)\n",
    "lc1 = 0.5\n",
    "lc2 = 1.\n",
    "# Moments of inertia\n",
    "I1 = 0.083\n",
    "I2 = 0.33\n",
    "# Gravity\n",
    "g = 9.8"
   ]
  },
  {
   "cell_type": "code",
   "execution_count": 3,
   "metadata": {},
   "outputs": [],
   "source": [
    "### Problem parameters\n",
    "t0 = 0\n",
    "tf = 10\n",
    "R = 10\n",
    "x0 = [0, 0, 0, 0]\n",
    "\n",
    "# Acrobot state: [theta1, theta2, theta1_dot, theta2_dot]\n",
    "# input: [torque] (at elbow joint only)\n",
    "problem = Problem(name=\"acrobot\", nx=[4], nu=[1], nq=[1])"
   ]
  },
  {
   "cell_type": "code",
   "execution_count": 4,
   "metadata": {},
   "outputs": [],
   "source": [
    "### Acrobot dynamics & objective function\n",
    "\n",
    "def objective(arg):\n",
    "    arg.objective = arg.phase[0].integral[0]\n",
    "\n",
    "def continuous(arg):\n",
    "    theta1, theta2, theta1_dot, theta2_dot = arg.phase[0].state\n",
    "    u, = arg.phase[0].control  # elbow torque\n",
    "\n",
    "    # M(q)*q_ddot + C(q, q_dot)*q_dot = tau_g(q) + Bu\n",
    "    # q = [theta1, theta2]^T\n",
    "\n",
    "    # M, mass matrix\n",
    "    M = np.array([[I1 + I2 + m2*l1**2 + 2*m2*l1*lc2*np.cos(theta2), I2 + m2*l1*lc2*np.cos(theta2)],\n",
    "                  [I2 + m2*l1*lc2*np.cos(theta2), I2]])\n",
    "\n",
    "    # C, Coriolis terms\n",
    "    C = np.array([[-2*m2*l1*lc2*np.sin(theta2)*theta2_dot, -m2*l1*lc2*np.sin(theta2)*theta2_dot],\n",
    "               [m2*l1*lc2*np.sin(theta2)*theta1_dot, 0]])\n",
    "\n",
    "    # tau_g, gravity terms\n",
    "    tau_g = np.array([-m1*g*lc1*np.sin(theta1) - m2*g*(l1*np.sin(theta1) + lc2*np.sin(theta1 + theta2)),\n",
    "                   -m2*g*lc2*np.sin(theta1 + theta2)])\n",
    "\n",
    "    # Combine to make the big matrix, call it M_block\n",
    "    # NOTE I'm doing it this way because numpy tries to invert block matrices as their individual blocks\n",
    "    # So even when the overall matrix is invertible, it says it's singular if C is singular\n",
    "    M_block = np.array([[1, 0, 0, 0],\n",
    "                     [0, 1, 0, 0],\n",
    "                     [C[0,0], C[0,1], M[0,0], M[0,1]],\n",
    "                     [C[1,0], C[1,1], M[1,0], M[1,1]]])\n",
    "    \n",
    "    M_block_inv = helpers.inv_4x4(M_block)\n",
    "\n",
    "    arg.phase[0].dynamics[:] = M_block_inv @ np.array([theta1_dot, theta2_dot, tau_g[0], tau_g[1] + u]).reshape(4, 1)\n",
    "    # arg.phase[0].integrand[0] = R * u**2 # Cost only on input \"effort\"\n",
    "    arg.phase[0].integrand[0] = 0.  # TODO only for testing\n",
    "\n",
    "functions = problem.functions\n",
    "functions.objective = objective\n",
    "functions.continuous = continuous"
   ]
  },
  {
   "cell_type": "code",
   "execution_count": 5,
   "metadata": {},
   "outputs": [],
   "source": [
    "### TESTING\n",
    "# theta1 = np.pi\n",
    "# theta2 = 0.\n",
    "# theta1_dot = 0.\n",
    "# theta2_dot = 0.\n",
    "# u = 0.4\n",
    "\n",
    "# # M, mass matrix\n",
    "# M = np.array([[I1 + I2 + m2*l1**2 + 2*m2*l1*lc2*np.cos(theta2), I2 + m2*l1*lc2*np.cos(theta2)],\n",
    "#                 [I2 + m2*l1*lc2*np.cos(theta2), I2]])\n",
    "\n",
    "# # C, Coriolis terms\n",
    "# C = np.array([[-2*m2*l1*lc2*np.sin(theta2)*theta2_dot, -m2*l1*lc2*np.sin(theta2)*theta2_dot],\n",
    "#               [m2*l1*lc2*np.sin(theta2)*theta1_dot, 0]])\n",
    "\n",
    "# # tau_g, gravity terms\n",
    "# tau_g = np.array([-m1*g*lc1*np.sin(theta1) - m2*g*(l1*np.sin(theta1) + lc2*np.sin(theta1 + theta2)),\n",
    "#                   -m2*g*lc2*np.sin(theta1 + theta2)])\n",
    "\n",
    "# # Combine to make the big matrix, call it M_block\n",
    "# M_block = np.array([[1, 0, 0, 0],\n",
    "#                     [0, 1, 0, 0],\n",
    "#                     [C[0,0], C[0,1], M[0,0], M[0,1]],\n",
    "#                     [C[1,0], C[1,1], M[1,0], M[1,1]]])\n",
    "\n",
    "# dynamics = np.linalg.inv(M_block) @ np.array([theta1_dot, theta2_dot, tau_g[0], tau_g[1] + u])"
   ]
  },
  {
   "cell_type": "code",
   "execution_count": 6,
   "metadata": {},
   "outputs": [],
   "source": [
    "### Set bounds\n",
    "bounds = problem.bounds.phase[0]\n",
    "\n",
    "# Initial conditions\n",
    "bounds.initial_time.lower = bounds.initial_time.upper = t0\n",
    "bounds.initial_state.lower = bounds.initial_state.upper = x0\n",
    "\n",
    "# Final time\n",
    "bounds.final_time.lower = bounds.final_time.upper = tf\n",
    "\n",
    "# Control bounds\n",
    "# TODO no control right now\n",
    "bounds.control.lower[:] = bounds.control.upper[:] = (0,)"
   ]
  },
  {
   "cell_type": "code",
   "execution_count": 7,
   "metadata": {},
   "outputs": [],
   "source": [
    "### Initial guess\n",
    "phase = problem.guess.phase[0]\n",
    "phase.time = (t0, tf)\n",
    "phase.state = ((0, 0), (0, 0), (0, 0), (0, 0))\n",
    "phase.control = ((0, 0),)"
   ]
  },
  {
   "cell_type": "code",
   "execution_count": 8,
   "metadata": {},
   "outputs": [],
   "source": [
    "### Mesh and solver settings\n",
    "m, n = 10, 10\n",
    "problem.mesh.phase[0].collocation_points = m * (n,)\n",
    "problem.mesh.phase[0].mesh_fraction = m * (1.0 / m,)\n",
    "\n",
    "problem.derivatives.order = \"second\"\n",
    "problem.derivatives.method = \"auto\"\n",
    "problem.spectral_method = \"lgl\"\n",
    "problem.ipopt_options.tol = 1e-10"
   ]
  },
  {
   "cell_type": "code",
   "execution_count": 9,
   "metadata": {},
   "outputs": [
    {
     "name": "stdout",
     "output_type": "stream",
     "text": [
      "\n",
      "******************************************************************************\n",
      "This program contains Ipopt, a library for large-scale nonlinear optimization.\n",
      " Ipopt is released as open source code under the Eclipse Public License (EPL).\n",
      "         For more information visit https://github.com/coin-or/Ipopt\n",
      "******************************************************************************\n",
      "\n",
      "This is Ipopt version 3.14.11, running with linear solver MUMPS 5.4.1.\n",
      "\n",
      "Number of nonzeros in equality constraint Jacobian...:     5172\n",
      "Number of nonzeros in inequality constraint Jacobian.:        0\n",
      "Number of nonzeros in Lagrangian Hessian.............:      720\n",
      "\n",
      "Total number of variables............................:      401\n",
      "                     variables with only lower bounds:        0\n",
      "                variables with lower and upper bounds:        0\n",
      "                     variables with only upper bounds:        0\n",
      "Total number of equality constraints.................:      401\n",
      "Total number of inequality constraints...............:        1\n",
      "        inequality constraints with only lower bounds:        1\n",
      "   inequality constraints with lower and upper bounds:        0\n",
      "        inequality constraints with only upper bounds:        0\n",
      "\n",
      "iter    objective    inf_pr   inf_du lg(mu)  ||d||  lg(rg) alpha_du alpha_pr  ls\n",
      "   0  0.0000000e+00 0.00e+00 1.00e+00   0.0 0.00e+00    -  0.00e+00 0.00e+00   0\n",
      "\n",
      "Number of Iterations....: 0\n",
      "\n",
      "                                   (scaled)                 (unscaled)\n",
      "Objective...............:   0.0000000000000000e+00    0.0000000000000000e+00\n",
      "Dual infeasibility......:   0.0000000000000000e+00    0.0000000000000000e+00\n",
      "Constraint violation....:   0.0000000000000000e+00    0.0000000000000000e+00\n",
      "Variable bound violation:   0.0000000000000000e+00    0.0000000000000000e+00\n",
      "Complementarity.........:   0.0000000000000000e+00    0.0000000000000000e+00\n",
      "Overall NLP error.......:   0.0000000000000000e+00    0.0000000000000000e+00\n",
      "\n",
      "\n",
      "Number of objective function evaluations             = 1\n",
      "Number of objective gradient evaluations             = 1\n",
      "Number of equality constraint evaluations            = 1\n",
      "Number of inequality constraint evaluations          = 1\n",
      "Number of equality constraint Jacobian evaluations   = 1\n",
      "Number of inequality constraint Jacobian evaluations = 1\n",
      "Number of Lagrangian Hessian evaluations             = 0\n",
      "Total seconds in IPOPT (w/o function evaluations)    =      0.022\n",
      "Total seconds in NLP function evaluations            =      0.006\n",
      "\n",
      "EXIT: Optimal Solution Found.\n"
     ]
    }
   ],
   "source": [
    "### Solve\n",
    "output = problem.solve()"
   ]
  },
  {
   "cell_type": "code",
   "execution_count": 10,
   "metadata": {},
   "outputs": [],
   "source": [
    "# extract information from solution\n",
    "time = output.solution.phase[0].time\n",
    "time_u = output.solution.phase[0].time_u\n",
    "q1, q2, q1_dot, q2_dot = output.solution.phase[0].state\n",
    "(torque,) = output.solution.phase[0].control\n",
    "phase = output.solution.phase[0]\n",
    "\n",
    "# initial and final time\n",
    "t0 = output.solution.phase[0].t0\n",
    "tf = output.solution.phase[0].tf"
   ]
  },
  {
   "cell_type": "code",
   "execution_count": 11,
   "metadata": {},
   "outputs": [
    {
     "data": {
      "image/png": "[encoded data removed]",
      "text/plain": [
       "<Figure size 640x480 with 1 Axes>"
      ]
     },
     "metadata": {},
     "output_type": "display_data"
    }
   ],
   "source": [
    "plt.figure()\n",
    "plt.plot(time, q2_dot)\n",
    "plt.grid()"
   ]
  },
  {
   "cell_type": "code",
   "execution_count": null,
   "metadata": {},
   "outputs": [],
   "source": []
  }
 ],
 "metadata": {
  "kernelspec": {
   "display_name": "venv",
   "language": "python",
   "name": "python3"
  },
  "language_info": {
   "codemirror_mode": {
    "name": "ipython",
    "version": 3
   },
   "file_extension": ".py",
   "mimetype": "text/x-python",
   "name": "python",
   "nbconvert_exporter": "python",
   "pygments_lexer": "ipython3",
   "version": "3.11.5"
  }
 },
 "nbformat": 4,
 "nbformat_minor": 2
}
