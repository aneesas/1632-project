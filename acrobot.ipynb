{
 "cells": [
  {
   "cell_type": "code",
   "execution_count": 6,
   "metadata": {},
   "outputs": [],
   "source": [
    "import numpy as np\n",
    "from pydrake.all import (\n",
    "    DiagramBuilder,\n",
    "    MeshcatVisualizer,\n",
    "    SceneGraph,\n",
    "    Simulator,\n",
    "    StartMeshcat,\n",
    ")\n",
    "from pydrake.examples import AcrobotGeometry, AcrobotInput, AcrobotPlant, AcrobotState"
   ]
  },
  {
   "cell_type": "code",
   "execution_count": 5,
   "metadata": {},
   "outputs": [
    {
     "name": "stderr",
     "output_type": "stream",
     "text": [
      "INFO:drake:Meshcat listening for connections at http://localhost:7000\n"
     ]
    }
   ],
   "source": [
    "### Run this only once (each instance opens a port for the visualizer)\n",
    "meshcat = StartMeshcat()"
   ]
  },
  {
   "cell_type": "code",
   "execution_count": 14,
   "metadata": {},
   "outputs": [],
   "source": [
    "### Adapted from Underactuated textbook\n",
    "# Build the acrobot diagram\n",
    "builder = DiagramBuilder()\n",
    "acrobot = builder.AddSystem(AcrobotPlant())  # TODO implement the dynamics myself?\n",
    "\n",
    "scene_graph = builder.AddSystem(SceneGraph())\n",
    "AcrobotGeometry.AddToBuilder(builder, acrobot.get_output_port(0), scene_graph)\n",
    "meshcat.Delete()\n",
    "meshcat.Set2dRenderMode(xmin=-6, xmax=4, ymin=-5, ymax=4)\n",
    "MeshcatVisualizer.AddToBuilder(builder, scene_graph, meshcat)\n",
    "\n",
    "diagram = builder.Build()\n",
    "\n",
    "# Set up a simulator to run the diagram\n",
    "simulator = Simulator(diagram)\n",
    "context = simulator.get_mutable_context()\n",
    "\n",
    "# Set initial conditions (state is theta1, theta2, theta1dot, theta2dot)\n",
    "context.SetContinuousState([0, 0, 0.5, 0])\n",
    "\n",
    "simulator.set_target_realtime_rate(1.0)\n",
    "for _ in range(10):\n",
    "    simulator.AdvanceTo(simulator.get_context().get_time() + 1.0)"
   ]
  },
  {
   "cell_type": "code",
   "execution_count": null,
   "metadata": {},
   "outputs": [],
   "source": []
  }
 ],
 "metadata": {
  "kernelspec": {
   "display_name": "venv",
   "language": "python",
   "name": "python3"
  },
  "language_info": {
   "codemirror_mode": {
    "name": "ipython",
    "version": 3
   },
   "file_extension": ".py",
   "mimetype": "text/x-python",
   "name": "python",
   "nbconvert_exporter": "python",
   "pygments_lexer": "ipython3",
   "version": "3.11.5"
  }
 },
 "nbformat": 4,
 "nbformat_minor": 2
}
